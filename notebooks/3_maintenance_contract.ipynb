{
 "cells": [
  {
   "cell_type": "markdown",
   "metadata": {},
   "source": [
    "## Maintenance contract\n",
    "We will now try to propose a maintenance contract that will allow us to update our model according to the new data.\n",
    "\n",
    "To do this, we will observe the performance of our model over time depending on its update frequency (monthly, quarterly, semi-annually or annually)"
   ]
  },
  {
   "cell_type": "markdown",
   "metadata": {},
   "source": [
    "## Initialisation"
   ]
  },
  {
   "cell_type": "code",
   "execution_count": 1,
   "metadata": {},
   "outputs": [],
   "source": [
    "%matplotlib inline\n",
    "import pandas as pd\n",
    "from sklearn import preprocessing\n",
    "from sklearn import cluster,metrics\n"
   ]
  },
  {
   "cell_type": "markdown",
   "metadata": {},
   "source": [
    "# Maintenance"
   ]
  },
  {
   "cell_type": "markdown",
   "metadata": {},
   "source": [
    "## Recovery of the original data"
   ]
  },
  {
   "cell_type": "code",
   "execution_count": 3,
   "metadata": {},
   "outputs": [],
   "source": [
    "dfCustomers = pd.read_csv(\"../data/raw/olist_customers_dataset.csv\", sep=\",\")\n",
    "dfOrders = pd.read_csv(\n",
    "    \"../data/raw/olist_orders_dataset.csv\", sep=\",\",\n",
    "    parse_dates=['order_purchase_timestamp']\n",
    "    )  # puts the variable in \"Timestamp\" format\n",
    "dfOrderPay = pd.read_csv(\n",
    "    \"../data/raw/olist_order_payments_dataset.csv\", sep=\",\")\n",
    "dfOrdReview = pd.read_csv(\n",
    "    \"../data/raw/olist_order_reviews_dataset.csv\", sep=\",\")\n",
    "\n",
    "# Save the most recent date,\n",
    "# in order to obtain the delta of the order date, for the Rescence\n",
    "tsLast = dfOrders.order_purchase_timestamp.max()\n",
    "\n",
    "df = dfCustomers[['customer_unique_id', 'customer_id']]\n",
    "df = df.merge(\n",
    "    dfOrders[['customer_id', 'order_id',\n",
    "              'order_purchase_timestamp']],\n",
    "    how='left', on='customer_id')\n",
    "df = df.merge(dfOrderPay[['order_id',\n",
    "                          'payment_value']], how='left', on='order_id')\n",
    "\n",
    "df = df.merge(dfOrdReview[['order_id',\n",
    "                           'review_score']], how='left', on='order_id')\n"
   ]
  },
  {
   "cell_type": "code",
   "execution_count": 2,
   "metadata": {},
   "outputs": [],
   "source": [
    "def mkDfCustomers(df):\n",
    "    '''\n",
    "    Constitution of the customer dataframe\n",
    "\n",
    "        Parameters:\n",
    "            df (DataFrame): dataframe from the merges\n",
    "                            of the different useful tables\n",
    "\n",
    "        Returns:\n",
    "            dfCustomers (DataFrame): client dataframe\n",
    "    '''\n",
    "    df2Features = df.groupby('customer_unique_id')['customer_id']\\\n",
    "        .agg('nunique').reset_index()\n",
    "\n",
    "    dfCustomers = pd.DataFrame(\n",
    "        {\n",
    "            'customer_unique_id': df2Features['customer_unique_id'],\n",
    "            'freq': df2Features['customer_id'],\n",
    "            'recen': df.groupby('customer_unique_id')\n",
    "            ['order_purchase_timestamp']\n",
    "            .agg('max').apply(lambda x: (tsLast-x).days).values,\n",
    "            'MSum': df.groupby('customer_unique_id')['payment_value']\n",
    "            .agg('sum').values,  # order total per customer\n",
    "            'scrRev': df.groupby('customer_unique_id')['review_score']\n",
    "            .agg('median').values  # median per customer\n",
    "        }\n",
    "    )\n",
    "    # 716 NaN that I will fill with \"-1\".\n",
    "    dfCustomers.loc[dfCustomers.scrRev.isna(), 'scrRev'] = -1\n",
    "\n",
    "    return dfCustomers\n"
   ]
  },
  {
   "cell_type": "code",
   "execution_count": 4,
   "metadata": {},
   "outputs": [],
   "source": [
    "def trsInit(x):\n",
    "    '''\n",
    "    Data transformation procedure for training a new model or its update\n",
    "\n",
    "        Parameters:\n",
    "            x (DataFrame): Data to be transformed\n",
    "\n",
    "        Returns:\n",
    "            x_trans (ndarray): transformed input data\n",
    "            trsQtl (QuantileTransformer): transformer fitted\n",
    "            trsStd (StandardScaler): transformer fitted\n",
    "    '''\n",
    "    trsQtl = preprocessing.QuantileTransformer(output_distribution='normal',\n",
    "                                               random_state=0).fit(x[['freq']])\n",
    "    x.loc[:, 'freq'] = trsQtl.transform(x[['freq']])\n",
    "\n",
    "    trsStd = preprocessing.StandardScaler().fit(x)\n",
    "    x_trans = trsStd.transform(x)\n",
    "\n",
    "    return x_trans, trsQtl, trsStd\n"
   ]
  },
  {
   "cell_type": "code",
   "execution_count": 5,
   "metadata": {},
   "outputs": [],
   "source": [
    "def trsPred(x, trsQtl, trsStd):\n",
    "    '''\n",
    "    Data transformation procedure for prediction\n",
    "\n",
    "        Parameters:\n",
    "            x (DataFrame): data to be transformed\n",
    "            trsQtl (QuantileTransformer): transformer fitted\n",
    "            trsStd (StandardScaler): transformer fitted\n",
    "\n",
    "        Returns:\n",
    "            x_trans (ndarray): transformed input data\n",
    "    '''\n",
    "    x.loc[:, 'freq'] = trsQtl.transform(x[['freq']])\n",
    "    x_trans = trsStd.transform(x)\n",
    "\n",
    "    return x_trans\n"
   ]
  },
  {
   "cell_type": "code",
   "execution_count": 6,
   "metadata": {},
   "outputs": [],
   "source": [
    "def getMaintenance(df):\n",
    "    '''\n",
    "    procedure for providing data to select a maintenance period\n",
    "    10 day increment loop, over 8 months\n",
    "\n",
    "        Parameters:\n",
    "            df (DataFrame): original df without the aggregated varaiables\n",
    "\n",
    "        Returns:\n",
    "            lARI (list): list of ARI indices, calculated\n",
    "    '''\n",
    "    # init: Set the number of days per loop and the amount of loops\n",
    "    lARI = []\n",
    "    nbDaysPeriod = 30 # per month\n",
    "    nbLoop = 12 # One year\n",
    "\n",
    "    minDat = df.order_purchase_timestamp.min()\n",
    "    initialPeriod = minDat + pd.DateOffset(months=16)\n",
    "    addPeriod = initialPeriod\n",
    "    dfPeriod = df.loc[df['order_purchase_timestamp'] < initialPeriod, :]\n",
    "    dfCustomers = mkDfCustomers(dfPeriod)\n",
    "\n",
    "    dfX = dfCustomers[['freq', 'recen', 'MSum', 'scrRev']]\n",
    "    # initial transformation and recovery of transformers Initial estimator\n",
    "    x_trans, trsQtlInit, trsStdInit = trsInit(dfX)\n",
    "\n",
    "    # initial estimator\n",
    "    clsInit = cluster.KMeans(\n",
    "        n_clusters=4,\n",
    "        random_state=0)\n",
    "    ModlInit = clsInit.fit(x_trans)\n",
    "\n",
    "    for i in range(nbLoop):\n",
    "        print(f\"Loop no.: {i} \")\n",
    "        addPeriod += pd.DateOffset(days=nbDaysPeriod)\n",
    "        print(f\"Offset: {addPeriod} \")\n",
    "\n",
    "        dfPeriod = df.loc[df['order_purchase_timestamp'] < addPeriod, :]\n",
    "        dfCustomers = mkDfCustomers(dfPeriod)\n",
    "\n",
    "        dfX = dfCustomers[['freq', 'recen', 'MSum', 'scrRev']]\n",
    "\n",
    "        # prediction of the initial model with the initial transform\n",
    "        x_trans = trsPred(dfX, trsQtlInit, trsStdInit)\n",
    "        pred = ModlInit.predict(x_trans)\n",
    "\n",
    "        # transformer update\n",
    "        x_trsUpdt, trsQtl, trsStd = trsInit(dfX)\n",
    "\n",
    "        # update of the estimator\n",
    "        clsMaj = cluster.KMeans(\n",
    "            n_clusters=4,\n",
    "            random_state=0)\n",
    "        ModlMaj = clsMaj.fit(x_trsUpdt)\n",
    "\n",
    "        # calculation of the ARI\n",
    "        ari = metrics.adjusted_rand_score(ModlMaj.labels_, pred)\n",
    "        print(f\"ARI value: {ari} \")\n",
    "        lARI.append(ari)\n",
    "\n",
    "        print(\"*******************\")\n",
    "\n",
    "    return lARI\n"
   ]
  },
  {
   "cell_type": "code",
   "execution_count": 7,
   "metadata": {},
   "outputs": [
    {
     "name": "stderr",
     "output_type": "stream",
     "text": [
      "C:\\Users\\ezequ\\miniconda3\\envs\\olist\\lib\\site-packages\\pandas\\core\\indexing.py:1835: SettingWithCopyWarning: \n",
      "A value is trying to be set on a copy of a slice from a DataFrame.\n",
      "Try using .loc[row_indexer,col_indexer] = value instead\n",
      "\n",
      "See the caveats in the documentation: https://pandas.pydata.org/pandas-docs/stable/user_guide/indexing.html#returning-a-view-versus-a-copy\n",
      "  self._setitem_single_column(loc, value[:, i].tolist(), pi)\n"
     ]
    },
    {
     "name": "stdout",
     "output_type": "stream",
     "text": [
      "Loop no.: 0 \n",
      "Offset: 2018-02-03 21:15:19 \n"
     ]
    },
    {
     "name": "stderr",
     "output_type": "stream",
     "text": [
      "C:\\Users\\ezequ\\miniconda3\\envs\\olist\\lib\\site-packages\\pandas\\core\\indexing.py:1835: SettingWithCopyWarning: \n",
      "A value is trying to be set on a copy of a slice from a DataFrame.\n",
      "Try using .loc[row_indexer,col_indexer] = value instead\n",
      "\n",
      "See the caveats in the documentation: https://pandas.pydata.org/pandas-docs/stable/user_guide/indexing.html#returning-a-view-versus-a-copy\n",
      "  self._setitem_single_column(loc, value[:, i].tolist(), pi)\n",
      "C:\\Users\\ezequ\\miniconda3\\envs\\olist\\lib\\site-packages\\pandas\\core\\indexing.py:1835: SettingWithCopyWarning: \n",
      "A value is trying to be set on a copy of a slice from a DataFrame.\n",
      "Try using .loc[row_indexer,col_indexer] = value instead\n",
      "\n",
      "See the caveats in the documentation: https://pandas.pydata.org/pandas-docs/stable/user_guide/indexing.html#returning-a-view-versus-a-copy\n",
      "  self._setitem_single_column(loc, value[:, i].tolist(), pi)\n"
     ]
    },
    {
     "name": "stdout",
     "output_type": "stream",
     "text": [
      "ARI value: 0.8481223738100376 \n",
      "*******************\n",
      "Loop no.: 1 \n",
      "Offset: 2018-03-05 21:15:19 \n"
     ]
    },
    {
     "name": "stderr",
     "output_type": "stream",
     "text": [
      "C:\\Users\\ezequ\\miniconda3\\envs\\olist\\lib\\site-packages\\pandas\\core\\indexing.py:1835: SettingWithCopyWarning: \n",
      "A value is trying to be set on a copy of a slice from a DataFrame.\n",
      "Try using .loc[row_indexer,col_indexer] = value instead\n",
      "\n",
      "See the caveats in the documentation: https://pandas.pydata.org/pandas-docs/stable/user_guide/indexing.html#returning-a-view-versus-a-copy\n",
      "  self._setitem_single_column(loc, value[:, i].tolist(), pi)\n",
      "C:\\Users\\ezequ\\miniconda3\\envs\\olist\\lib\\site-packages\\pandas\\core\\indexing.py:1835: SettingWithCopyWarning: \n",
      "A value is trying to be set on a copy of a slice from a DataFrame.\n",
      "Try using .loc[row_indexer,col_indexer] = value instead\n",
      "\n",
      "See the caveats in the documentation: https://pandas.pydata.org/pandas-docs/stable/user_guide/indexing.html#returning-a-view-versus-a-copy\n",
      "  self._setitem_single_column(loc, value[:, i].tolist(), pi)\n"
     ]
    },
    {
     "name": "stdout",
     "output_type": "stream",
     "text": [
      "ARI value: 0.7786012343986217 \n",
      "*******************\n",
      "Loop no.: 2 \n",
      "Offset: 2018-04-04 21:15:19 \n"
     ]
    },
    {
     "name": "stderr",
     "output_type": "stream",
     "text": [
      "C:\\Users\\ezequ\\miniconda3\\envs\\olist\\lib\\site-packages\\pandas\\core\\indexing.py:1835: SettingWithCopyWarning: \n",
      "A value is trying to be set on a copy of a slice from a DataFrame.\n",
      "Try using .loc[row_indexer,col_indexer] = value instead\n",
      "\n",
      "See the caveats in the documentation: https://pandas.pydata.org/pandas-docs/stable/user_guide/indexing.html#returning-a-view-versus-a-copy\n",
      "  self._setitem_single_column(loc, value[:, i].tolist(), pi)\n",
      "C:\\Users\\ezequ\\miniconda3\\envs\\olist\\lib\\site-packages\\pandas\\core\\indexing.py:1835: SettingWithCopyWarning: \n",
      "A value is trying to be set on a copy of a slice from a DataFrame.\n",
      "Try using .loc[row_indexer,col_indexer] = value instead\n",
      "\n",
      "See the caveats in the documentation: https://pandas.pydata.org/pandas-docs/stable/user_guide/indexing.html#returning-a-view-versus-a-copy\n",
      "  self._setitem_single_column(loc, value[:, i].tolist(), pi)\n"
     ]
    },
    {
     "name": "stdout",
     "output_type": "stream",
     "text": [
      "ARI value: 0.7247145934435636 \n",
      "*******************\n",
      "Loop no.: 3 \n",
      "Offset: 2018-05-04 21:15:19 \n"
     ]
    },
    {
     "name": "stderr",
     "output_type": "stream",
     "text": [
      "C:\\Users\\ezequ\\miniconda3\\envs\\olist\\lib\\site-packages\\pandas\\core\\indexing.py:1835: SettingWithCopyWarning: \n",
      "A value is trying to be set on a copy of a slice from a DataFrame.\n",
      "Try using .loc[row_indexer,col_indexer] = value instead\n",
      "\n",
      "See the caveats in the documentation: https://pandas.pydata.org/pandas-docs/stable/user_guide/indexing.html#returning-a-view-versus-a-copy\n",
      "  self._setitem_single_column(loc, value[:, i].tolist(), pi)\n",
      "C:\\Users\\ezequ\\miniconda3\\envs\\olist\\lib\\site-packages\\pandas\\core\\indexing.py:1835: SettingWithCopyWarning: \n",
      "A value is trying to be set on a copy of a slice from a DataFrame.\n",
      "Try using .loc[row_indexer,col_indexer] = value instead\n",
      "\n",
      "See the caveats in the documentation: https://pandas.pydata.org/pandas-docs/stable/user_guide/indexing.html#returning-a-view-versus-a-copy\n",
      "  self._setitem_single_column(loc, value[:, i].tolist(), pi)\n"
     ]
    },
    {
     "name": "stdout",
     "output_type": "stream",
     "text": [
      "ARI value: 0.6837466095839703 \n",
      "*******************\n",
      "Loop no.: 4 \n",
      "Offset: 2018-06-03 21:15:19 \n"
     ]
    },
    {
     "name": "stderr",
     "output_type": "stream",
     "text": [
      "C:\\Users\\ezequ\\miniconda3\\envs\\olist\\lib\\site-packages\\pandas\\core\\indexing.py:1835: SettingWithCopyWarning: \n",
      "A value is trying to be set on a copy of a slice from a DataFrame.\n",
      "Try using .loc[row_indexer,col_indexer] = value instead\n",
      "\n",
      "See the caveats in the documentation: https://pandas.pydata.org/pandas-docs/stable/user_guide/indexing.html#returning-a-view-versus-a-copy\n",
      "  self._setitem_single_column(loc, value[:, i].tolist(), pi)\n",
      "C:\\Users\\ezequ\\miniconda3\\envs\\olist\\lib\\site-packages\\pandas\\core\\indexing.py:1835: SettingWithCopyWarning: \n",
      "A value is trying to be set on a copy of a slice from a DataFrame.\n",
      "Try using .loc[row_indexer,col_indexer] = value instead\n",
      "\n",
      "See the caveats in the documentation: https://pandas.pydata.org/pandas-docs/stable/user_guide/indexing.html#returning-a-view-versus-a-copy\n",
      "  self._setitem_single_column(loc, value[:, i].tolist(), pi)\n"
     ]
    },
    {
     "name": "stdout",
     "output_type": "stream",
     "text": [
      "ARI value: 0.6444479384157336 \n",
      "*******************\n",
      "Loop no.: 5 \n",
      "Offset: 2018-07-03 21:15:19 \n"
     ]
    },
    {
     "name": "stderr",
     "output_type": "stream",
     "text": [
      "C:\\Users\\ezequ\\miniconda3\\envs\\olist\\lib\\site-packages\\pandas\\core\\indexing.py:1835: SettingWithCopyWarning: \n",
      "A value is trying to be set on a copy of a slice from a DataFrame.\n",
      "Try using .loc[row_indexer,col_indexer] = value instead\n",
      "\n",
      "See the caveats in the documentation: https://pandas.pydata.org/pandas-docs/stable/user_guide/indexing.html#returning-a-view-versus-a-copy\n",
      "  self._setitem_single_column(loc, value[:, i].tolist(), pi)\n",
      "C:\\Users\\ezequ\\miniconda3\\envs\\olist\\lib\\site-packages\\pandas\\core\\indexing.py:1835: SettingWithCopyWarning: \n",
      "A value is trying to be set on a copy of a slice from a DataFrame.\n",
      "Try using .loc[row_indexer,col_indexer] = value instead\n",
      "\n",
      "See the caveats in the documentation: https://pandas.pydata.org/pandas-docs/stable/user_guide/indexing.html#returning-a-view-versus-a-copy\n",
      "  self._setitem_single_column(loc, value[:, i].tolist(), pi)\n"
     ]
    },
    {
     "name": "stdout",
     "output_type": "stream",
     "text": [
      "ARI value: 0.5919203936676442 \n",
      "*******************\n",
      "Loop no.: 6 \n",
      "Offset: 2018-08-02 21:15:19 \n"
     ]
    },
    {
     "name": "stderr",
     "output_type": "stream",
     "text": [
      "C:\\Users\\ezequ\\miniconda3\\envs\\olist\\lib\\site-packages\\pandas\\core\\indexing.py:1835: SettingWithCopyWarning: \n",
      "A value is trying to be set on a copy of a slice from a DataFrame.\n",
      "Try using .loc[row_indexer,col_indexer] = value instead\n",
      "\n",
      "See the caveats in the documentation: https://pandas.pydata.org/pandas-docs/stable/user_guide/indexing.html#returning-a-view-versus-a-copy\n",
      "  self._setitem_single_column(loc, value[:, i].tolist(), pi)\n",
      "C:\\Users\\ezequ\\miniconda3\\envs\\olist\\lib\\site-packages\\pandas\\core\\indexing.py:1835: SettingWithCopyWarning: \n",
      "A value is trying to be set on a copy of a slice from a DataFrame.\n",
      "Try using .loc[row_indexer,col_indexer] = value instead\n",
      "\n",
      "See the caveats in the documentation: https://pandas.pydata.org/pandas-docs/stable/user_guide/indexing.html#returning-a-view-versus-a-copy\n",
      "  self._setitem_single_column(loc, value[:, i].tolist(), pi)\n"
     ]
    },
    {
     "name": "stdout",
     "output_type": "stream",
     "text": [
      "ARI value: 0.5593076182560598 \n",
      "*******************\n",
      "Loop no.: 7 \n",
      "Offset: 2018-09-01 21:15:19 \n"
     ]
    },
    {
     "name": "stderr",
     "output_type": "stream",
     "text": [
      "C:\\Users\\ezequ\\miniconda3\\envs\\olist\\lib\\site-packages\\pandas\\core\\indexing.py:1835: SettingWithCopyWarning: \n",
      "A value is trying to be set on a copy of a slice from a DataFrame.\n",
      "Try using .loc[row_indexer,col_indexer] = value instead\n",
      "\n",
      "See the caveats in the documentation: https://pandas.pydata.org/pandas-docs/stable/user_guide/indexing.html#returning-a-view-versus-a-copy\n",
      "  self._setitem_single_column(loc, value[:, i].tolist(), pi)\n",
      "C:\\Users\\ezequ\\miniconda3\\envs\\olist\\lib\\site-packages\\pandas\\core\\indexing.py:1835: SettingWithCopyWarning: \n",
      "A value is trying to be set on a copy of a slice from a DataFrame.\n",
      "Try using .loc[row_indexer,col_indexer] = value instead\n",
      "\n",
      "See the caveats in the documentation: https://pandas.pydata.org/pandas-docs/stable/user_guide/indexing.html#returning-a-view-versus-a-copy\n",
      "  self._setitem_single_column(loc, value[:, i].tolist(), pi)\n"
     ]
    },
    {
     "name": "stdout",
     "output_type": "stream",
     "text": [
      "ARI value: 0.44919871815664275 \n",
      "*******************\n",
      "Loop no.: 8 \n",
      "Offset: 2018-10-01 21:15:19 \n"
     ]
    },
    {
     "name": "stderr",
     "output_type": "stream",
     "text": [
      "C:\\Users\\ezequ\\miniconda3\\envs\\olist\\lib\\site-packages\\pandas\\core\\indexing.py:1835: SettingWithCopyWarning: \n",
      "A value is trying to be set on a copy of a slice from a DataFrame.\n",
      "Try using .loc[row_indexer,col_indexer] = value instead\n",
      "\n",
      "See the caveats in the documentation: https://pandas.pydata.org/pandas-docs/stable/user_guide/indexing.html#returning-a-view-versus-a-copy\n",
      "  self._setitem_single_column(loc, value[:, i].tolist(), pi)\n",
      "C:\\Users\\ezequ\\miniconda3\\envs\\olist\\lib\\site-packages\\pandas\\core\\indexing.py:1835: SettingWithCopyWarning: \n",
      "A value is trying to be set on a copy of a slice from a DataFrame.\n",
      "Try using .loc[row_indexer,col_indexer] = value instead\n",
      "\n",
      "See the caveats in the documentation: https://pandas.pydata.org/pandas-docs/stable/user_guide/indexing.html#returning-a-view-versus-a-copy\n",
      "  self._setitem_single_column(loc, value[:, i].tolist(), pi)\n"
     ]
    },
    {
     "name": "stdout",
     "output_type": "stream",
     "text": [
      "ARI value: 0.44753606323753703 \n",
      "*******************\n",
      "Loop no.: 9 \n",
      "Offset: 2018-10-31 21:15:19 \n"
     ]
    },
    {
     "name": "stderr",
     "output_type": "stream",
     "text": [
      "C:\\Users\\ezequ\\miniconda3\\envs\\olist\\lib\\site-packages\\pandas\\core\\indexing.py:1835: SettingWithCopyWarning: \n",
      "A value is trying to be set on a copy of a slice from a DataFrame.\n",
      "Try using .loc[row_indexer,col_indexer] = value instead\n",
      "\n",
      "See the caveats in the documentation: https://pandas.pydata.org/pandas-docs/stable/user_guide/indexing.html#returning-a-view-versus-a-copy\n",
      "  self._setitem_single_column(loc, value[:, i].tolist(), pi)\n",
      "C:\\Users\\ezequ\\miniconda3\\envs\\olist\\lib\\site-packages\\pandas\\core\\indexing.py:1835: SettingWithCopyWarning: \n",
      "A value is trying to be set on a copy of a slice from a DataFrame.\n",
      "Try using .loc[row_indexer,col_indexer] = value instead\n",
      "\n",
      "See the caveats in the documentation: https://pandas.pydata.org/pandas-docs/stable/user_guide/indexing.html#returning-a-view-versus-a-copy\n",
      "  self._setitem_single_column(loc, value[:, i].tolist(), pi)\n"
     ]
    },
    {
     "name": "stdout",
     "output_type": "stream",
     "text": [
      "ARI value: 0.45019327819781685 \n",
      "*******************\n",
      "Loop no.: 10 \n",
      "Offset: 2018-11-30 21:15:19 \n"
     ]
    },
    {
     "name": "stderr",
     "output_type": "stream",
     "text": [
      "C:\\Users\\ezequ\\miniconda3\\envs\\olist\\lib\\site-packages\\pandas\\core\\indexing.py:1835: SettingWithCopyWarning: \n",
      "A value is trying to be set on a copy of a slice from a DataFrame.\n",
      "Try using .loc[row_indexer,col_indexer] = value instead\n",
      "\n",
      "See the caveats in the documentation: https://pandas.pydata.org/pandas-docs/stable/user_guide/indexing.html#returning-a-view-versus-a-copy\n",
      "  self._setitem_single_column(loc, value[:, i].tolist(), pi)\n",
      "C:\\Users\\ezequ\\miniconda3\\envs\\olist\\lib\\site-packages\\pandas\\core\\indexing.py:1835: SettingWithCopyWarning: \n",
      "A value is trying to be set on a copy of a slice from a DataFrame.\n",
      "Try using .loc[row_indexer,col_indexer] = value instead\n",
      "\n",
      "See the caveats in the documentation: https://pandas.pydata.org/pandas-docs/stable/user_guide/indexing.html#returning-a-view-versus-a-copy\n",
      "  self._setitem_single_column(loc, value[:, i].tolist(), pi)\n"
     ]
    },
    {
     "name": "stdout",
     "output_type": "stream",
     "text": [
      "ARI value: 0.45019327819781685 \n",
      "*******************\n",
      "Loop no.: 11 \n",
      "Offset: 2018-12-30 21:15:19 \n"
     ]
    },
    {
     "name": "stderr",
     "output_type": "stream",
     "text": [
      "C:\\Users\\ezequ\\miniconda3\\envs\\olist\\lib\\site-packages\\pandas\\core\\indexing.py:1835: SettingWithCopyWarning: \n",
      "A value is trying to be set on a copy of a slice from a DataFrame.\n",
      "Try using .loc[row_indexer,col_indexer] = value instead\n",
      "\n",
      "See the caveats in the documentation: https://pandas.pydata.org/pandas-docs/stable/user_guide/indexing.html#returning-a-view-versus-a-copy\n",
      "  self._setitem_single_column(loc, value[:, i].tolist(), pi)\n",
      "C:\\Users\\ezequ\\miniconda3\\envs\\olist\\lib\\site-packages\\pandas\\core\\indexing.py:1835: SettingWithCopyWarning: \n",
      "A value is trying to be set on a copy of a slice from a DataFrame.\n",
      "Try using .loc[row_indexer,col_indexer] = value instead\n",
      "\n",
      "See the caveats in the documentation: https://pandas.pydata.org/pandas-docs/stable/user_guide/indexing.html#returning-a-view-versus-a-copy\n",
      "  self._setitem_single_column(loc, value[:, i].tolist(), pi)\n"
     ]
    },
    {
     "name": "stdout",
     "output_type": "stream",
     "text": [
      "ARI value: 0.45019327819781685 \n",
      "*******************\n"
     ]
    }
   ],
   "source": [
    "lAri = getMaintenance(df)\n"
   ]
  },
  {
   "cell_type": "code",
   "execution_count": 8,
   "metadata": {},
   "outputs": [
    {
     "data": {
      "text/plain": [
       "Text(0, 0.5, 'ARI')"
      ]
     },
     "execution_count": 8,
     "metadata": {},
     "output_type": "execute_result"
    },
    {
     "data": {
      "image/png": "[encoded data removed]",
      "text/plain": [
       "<Figure size 432x288 with 1 Axes>"
      ]
     },
     "metadata": {
      "needs_background": "light"
     },
     "output_type": "display_data"
    }
   ],
   "source": [
    "import matplotlib.pyplot as plt\n",
    "\n",
    "plt.figure()\n",
    "plt.plot(range(30, 390, 30), lAri, marker='o')\n",
    "plt.title(\"Evolution of the ARI over 12 months\")\n",
    "plt.xlabel(\"number of days\")\n",
    "plt.ylabel(\"ARI\")\n"
   ]
  },
  {
   "cell_type": "markdown",
   "metadata": {},
   "source": [
    "We observe that the ARI goes down dramatically around 210 days, meaning we should propose a maintenance contract every 6 to 7 seven months. "
   ]
  }
 ],
 "metadata": {
  "interpreter": {
   "hash": "b6050077e4d3bfab6b3f0d0c239bd7a5e117df04cab2fb0c0518c502e1841122"
  },
  "kernelspec": {
   "display_name": "olist",
   "language": "python",
   "name": "olist"
  },
  "language_info": {
   "codemirror_mode": {
    "name": "ipython",
    "version": 3
   },
   "file_extension": ".py",
   "mimetype": "text/x-python",
   "name": "python",
   "nbconvert_exporter": "python",
   "pygments_lexer": "ipython3",
   "version": "3.9.6"
  }
 },
 "nbformat": 4,
 "nbformat_minor": 4
}
